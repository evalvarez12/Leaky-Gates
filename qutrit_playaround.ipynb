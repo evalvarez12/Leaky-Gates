{
 "cells": [
  {
   "cell_type": "code",
   "execution_count": 23,
   "metadata": {
    "collapsed": true
   },
   "outputs": [],
   "source": [
    "import numpy as np\n",
    "import matplotlib.pyplot as plt\n",
    "import qutip as qtp\n",
    "from IPython.display import display, Math, Latex"
   ]
  },
  {
   "cell_type": "code",
   "execution_count": 24,
   "metadata": {
    "collapsed": false
   },
   "outputs": [],
   "source": [
    "a = qtp.qutrit_basis()\n"
   ]
  },
  {
   "cell_type": "code",
   "execution_count": 25,
   "metadata": {
    "collapsed": false
   },
   "outputs": [
    {
     "name": "stdout",
     "output_type": "stream",
     "text": [
      "Quantum object: dims = [[3], [3]], shape = [3, 3], type = oper, isherm = True\n",
      "Qobj data =\n",
      "[[ 1.  0.  0.]\n",
      " [ 0.  0.  0.]\n",
      " [ 0.  0.  0.]]\n"
     ]
    }
   ],
   "source": [
    "print(a[0]*qtp.dag(a[0]))"
   ]
  },
  {
   "cell_type": "markdown",
   "metadata": {},
   "source": [
    "## Hamiltonian of two qutrits coupled directly\n",
    "\n",
    "H^{direct} = \\Sum_{j = A,B} [\\omega_{j}\\ket{1}\\bra{1} +(2\\omega_{j} - \\Delta_{j})\\ket{2}\\bra{2}] + g[\\ket{01}\\bra{10} + \\sqrt(2) \\ket{02}{11} + 2\\ket{12}\\bra{21} + H.C.] \n"
   ]
  },
  {
   "cell_type": "code",
   "execution_count": 27,
   "metadata": {
    "collapsed": true
   },
   "outputs": [],
   "source": [
    "def basis_kets():\n",
    "    basis_set = qtp.qutrit_basis()\n",
    "    ket0 = basis_set[0]\n",
    "    ket1 = basis_set[1]\n",
    "    ket2 = basis_set[2]\n",
    "    bra0 = qtp.dag(ket0)\n",
    "    bra1 = qtp.dag(ket1)\n",
    "    bra2 = qtp.dag(ket2)\n",
    "    return ket0,ket1,ket2,bra0,bra1,bra2\n",
    "    "
   ]
  },
  {
   "cell_type": "code",
   "execution_count": 29,
   "metadata": {
    "collapsed": true
   },
   "outputs": [],
   "source": [
    "def qubit_term(freq1, anh1, freq2, anh2):\n",
    "    ket0,ket1,ket2,bra0,bra1,bra2 = basis_kets()\n",
    "    qubit_term1 = freq1*ket1*bra1 + (2*freq1 - anh1)*ket2*bra2\n",
    "    qubit_term2 = freq2*ket1*bra1 + (2*freq2 - anh2)*ket2*bra2\n",
    "    qubit_term = qtp.tensor(qubit_term1,qubit_term2)\n",
    "    return qubit_term\n",
    "    \n",
    "    "
   ]
  },
  {
   "cell_type": "code",
   "execution_count": 30,
   "metadata": {
    "collapsed": true
   },
   "outputs": [],
   "source": [
    "def coupling_hamiltonian(coupling):\n",
    "    ket0,ket1,ket2,bra0,bra1,bra2 = basis_kets()\n",
    "    term1 = (qtp.tensor(ket0,ket1)*qtp.tensor(bra1,bra0) + np.sqrt(2)*qtp.tensor(ket0,ket2)*qtp.tensor(bra1,bra1)\n",
    "             + np.sqrt(2)*qtp.tensor(ket2,ket0)*qtp.tensor(bra1,bra1) + 2* qtp.tensor(ket1,ket2)*qtp.tensor(bra2,bra1))\n",
    "    term2 = qtp.dag(term1)\n",
    "    \n",
    "    return coupling*(term1 + term2)\n",
    "    \n",
    "    \n",
    "    "
   ]
  },
  {
   "cell_type": "code",
   "execution_count": 33,
   "metadata": {
    "collapsed": true
   },
   "outputs": [],
   "source": [
    "def dir_coupled_qutrit(freq1, anh1, freq2, anh2, coupling):\n",
    "    \"\"\"\n",
    "    freq 1 , 2 : splitting between bottom two levels (in GHZ)\n",
    "    anh 1,2 : anharmonicity of two qubits in MHz\n",
    "    g : coupling between qutrits \n",
    "    \"\"\"\n",
    "    qubit_term_hamiltonian = qubit_term(freq1, anh1, freq2, anh2)\n",
    "    coupling_term = coupling_hamiltonian(coupling)\n",
    "    hamiltonian_direct = qubit_term_hamiltonian + coupling_term\n",
    "    return hamiltonian_direct\n",
    "    \n",
    "    \n",
    "    \n",
    "    \n",
    "    "
   ]
  },
  {
   "cell_type": "code",
   "execution_count": 36,
   "metadata": {
    "collapsed": false
   },
   "outputs": [
    {
     "data": {
      "text/latex": [
       "Quantum object: dims = [[3, 3], [3, 3]], shape = [9, 9], type = oper, isherm = True\\begin{equation*}\\left(\\begin{array}{*{11}c}0.0 & 0.0 & 0.0 & 0.0 & 0.0 & 0.0 & 0.0 & 0.0 & 0.0\\\\0.0 & 0.0 & 0.0 & 0.300 & 0.0 & 0.0 & 0.0 & 0.0 & 0.0\\\\0.0 & 0.0 & 0.0 & 0.0 & 0.424 & 0.0 & 0.0 & 0.0 & 0.0\\\\0.0 & 0.300 & 0.0 & 0.0 & 0.0 & 0.0 & 0.0 & 0.0 & 0.0\\\\0.0 & 0.0 & 0.424 & 0.0 & 25.0 & 0.0 & 0.424 & 0.0 & 0.0\\\\0.0 & 0.0 & 0.0 & 0.0 & 0.0 & 47.500 & 0.0 & 0.600 & 0.0\\\\0.0 & 0.0 & 0.0 & 0.0 & 0.424 & 0.0 & 0.0 & 0.0 & 0.0\\\\0.0 & 0.0 & 0.0 & 0.0 & 0.0 & 0.600 & 0.0 & 47.500 & 0.0\\\\0.0 & 0.0 & 0.0 & 0.0 & 0.0 & 0.0 & 0.0 & 0.0 & 90.250\\\\\\end{array}\\right)\\end{equation*}"
      ],
      "text/plain": [
       "Quantum object: dims = [[3, 3], [3, 3]], shape = [9, 9], type = oper, isherm = True\n",
       "Qobj data =\n",
       "[[  0.           0.           0.           0.           0.           0.\n",
       "    0.           0.           0.        ]\n",
       " [  0.           0.           0.           0.3          0.           0.\n",
       "    0.           0.           0.        ]\n",
       " [  0.           0.           0.           0.           0.42426407   0.\n",
       "    0.           0.           0.        ]\n",
       " [  0.           0.3          0.           0.           0.           0.\n",
       "    0.           0.           0.        ]\n",
       " [  0.           0.           0.42426407   0.          25.           0.\n",
       "    0.42426407   0.           0.        ]\n",
       " [  0.           0.           0.           0.           0.          47.5\n",
       "    0.           0.6          0.        ]\n",
       " [  0.           0.           0.           0.           0.42426407   0.\n",
       "    0.           0.           0.        ]\n",
       " [  0.           0.           0.           0.           0.           0.6\n",
       "    0.          47.5          0.        ]\n",
       " [  0.           0.           0.           0.           0.           0.\n",
       "    0.           0.          90.25      ]]"
      ]
     },
     "execution_count": 36,
     "metadata": {},
     "output_type": "execute_result"
    }
   ],
   "source": [
    "coupling = 0.3\n",
    "dir_coupled_qutrit(5, .5, 5, .5, .3)"
   ]
  },
  {
   "cell_type": "code",
   "execution_count": 37,
   "metadata": {
    "collapsed": true
   },
   "outputs": [],
   "source": [
    "evolution_time = np.pi/(2*coupling)"
   ]
  },
  {
   "cell_type": "code",
   "execution_count": 45,
   "metadata": {
    "collapsed": false
   },
   "outputs": [],
   "source": [
    "U_evolution = (-1j * dir_coupled_qutrit(5, .5, 5, .5, .3) * evolution_time).expm()"
   ]
  },
  {
   "cell_type": "code",
   "execution_count": 46,
   "metadata": {
    "collapsed": false
   },
   "outputs": [
    {
     "data": {
      "text/latex": [
       "Quantum object: dims = [[3, 3], [3, 3]], shape = [9, 9], type = oper, isherm = False\\begin{equation*}\\left(\\begin{array}{*{11}c}1.0 & 0.0 & 0.0 & 0.0 & 0.0 & 0.0 & 0.0 & 0.0 & 0.0\\\\0.0 & 0.0 & 0.0 & -1.0j & 0.0 & 0.0 & 0.0 & 0.0 & 0.0\\\\0.0 & 0.0 & (0.998+0.038j) & 0.0 & (-0.007+0.013j) & 0.0 & (-0.002+0.038j) & 0.0 & 0.0\\\\0.0 & -1.0j & 0.0 & 0.0 & 0.0 & 0.0 & 0.0 & 0.0 & 0.0\\\\0.0 & 0.0 & (-0.007+0.013j) & 0.0 & (0.564+0.825j) & 0.0 & (-0.007+0.013j) & 0.0 & 0.0\\\\0.0 & 0.0 & 0.0 & 0.0 & 0.0 & (0.866-0.500j) & 0.0 & 0.0 & 0.0\\\\0.0 & 0.0 & (-0.002+0.038j) & 0.0 & (-0.007+0.013j) & 0.0 & (0.998+0.038j) & 0.0 & 0.0\\\\0.0 & 0.0 & 0.0 & 0.0 & 0.0 & 0.0 & 0.0 & (0.866-0.500j) & 0.0\\\\0.0 & 0.0 & 0.0 & 0.0 & 0.0 & 0.0 & 0.0 & 0.0 & (0.259-0.966j)\\\\\\end{array}\\right)\\end{equation*}"
      ],
      "text/plain": [
       "Quantum object: dims = [[3, 3], [3, 3]], shape = [9, 9], type = oper, isherm = False\n",
       "Qobj data =\n",
       "[[ 1.00000000+0.j          0.00000000+0.j          0.00000000+0.j\n",
       "   0.00000000+0.j          0.00000000+0.j          0.00000000+0.j\n",
       "   0.00000000+0.j          0.00000000+0.j          0.00000000+0.j        ]\n",
       " [ 0.00000000+0.j          0.00000000+0.j          0.00000000+0.j\n",
       "   0.00000000-1.j          0.00000000+0.j          0.00000000+0.j\n",
       "   0.00000000+0.j          0.00000000+0.j          0.00000000+0.j        ]\n",
       " [ 0.00000000+0.j          0.00000000+0.j          0.99845648+0.03785759j\n",
       "   0.00000000+0.j         -0.00734631+0.01272417j  0.00000000+0.j\n",
       "  -0.00154352+0.03785759j  0.00000000+0.j          0.00000000+0.j        ]\n",
       " [ 0.00000000+0.j          0.00000000-1.j          0.00000000+0.j\n",
       "   0.00000000+0.j          0.00000000+0.j          0.00000000+0.j\n",
       "   0.00000000+0.j          0.00000000+0.j          0.00000000+0.j        ]\n",
       " [ 0.00000000+0.j          0.00000000+0.j         -0.00734631+0.01272417j\n",
       "   0.00000000+0.j          0.56402775+0.82549437j  0.00000000+0.j\n",
       "  -0.00734631+0.01272417j  0.00000000+0.j          0.00000000+0.j        ]\n",
       " [ 0.00000000+0.j          0.00000000+0.j          0.00000000+0.j\n",
       "   0.00000000+0.j          0.00000000+0.j          0.86602540-0.5j\n",
       "   0.00000000+0.j          0.00000000+0.j          0.00000000+0.j        ]\n",
       " [ 0.00000000+0.j          0.00000000+0.j         -0.00154352+0.03785759j\n",
       "   0.00000000+0.j         -0.00734631+0.01272417j  0.00000000+0.j\n",
       "   0.99845648+0.03785759j  0.00000000+0.j          0.00000000+0.j        ]\n",
       " [ 0.00000000+0.j          0.00000000+0.j          0.00000000+0.j\n",
       "   0.00000000+0.j          0.00000000+0.j          0.00000000+0.j\n",
       "   0.00000000+0.j          0.86602540-0.5j         0.00000000+0.j        ]\n",
       " [ 0.00000000+0.j          0.00000000+0.j          0.00000000+0.j\n",
       "   0.00000000+0.j          0.00000000+0.j          0.00000000+0.j\n",
       "   0.00000000+0.j          0.00000000+0.j          0.25881905-0.96592583j]]"
      ]
     },
     "execution_count": 46,
     "metadata": {},
     "output_type": "execute_result"
    }
   ],
   "source": [
    "U_evolution"
   ]
  },
  {
   "cell_type": "code",
   "execution_count": null,
   "metadata": {
    "collapsed": true
   },
   "outputs": [],
   "source": [
    "def qutrit_to_qubit(U_evolution):\n",
    "    \n",
    "    "
   ]
  }
 ],
 "metadata": {
  "kernelspec": {
   "display_name": "Python [conda root]",
   "language": "python",
   "name": "conda-root-py"
  },
  "language_info": {
   "codemirror_mode": {
    "name": "ipython",
    "version": 3
   },
   "file_extension": ".py",
   "mimetype": "text/x-python",
   "name": "python",
   "nbconvert_exporter": "python",
   "pygments_lexer": "ipython3",
   "version": "3.5.2"
  }
 },
 "nbformat": 4,
 "nbformat_minor": 1
}
